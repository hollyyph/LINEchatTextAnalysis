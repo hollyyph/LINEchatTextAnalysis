{
 "cells": [
  {
   "cell_type": "code",
   "execution_count": null,
   "id": "0eb5c379",
   "metadata": {},
   "outputs": [],
   "source": [
    "import pandas as pd\n",
    "from tqdm.notebook import tqdm_notebook\n",
    "from dateutil import parser\n",
    "import seaborn as sns\n",
    "import matplotlib.pyplot as plt\n",
    "import datetime\n",
    "import numpy as np\n",
    "import joblib\n",
    "\n",
    "import warnings\n",
    "import nltk\n",
    "from nltk.sentiment.vader import SentimentIntensityAnalyzer\n",
    "nltk.download('vader_lexicon')\n",
    "from textblob import TextBlob\n",
    "import emoji\n",
    "import itertools \n",
    "import matplotlib.style as style\n",
    "style.use('ggplot')\n",
    "warnings.filterwarnings('ignore')"
   ]
  },
  {
   "cell_type": "code",
   "execution_count": null,
   "id": "eced0495",
   "metadata": {},
   "outputs": [],
   "source": [
    "# Read txt files\n",
    "f = open(\"groupchat_backup.txt\",\"r\", encoding=\"utf8\")\n",
    "content = f.read()\n",
    "print(content)"
   ]
  },
  {
   "cell_type": "code",
   "execution_count": null,
   "id": "46720e17",
   "metadata": {},
   "outputs": [],
   "source": [
    "# Memisahkan konten menjadi per line\n",
    "lines = []\n",
    "count = 0\n",
    "line = \"\"\n",
    "for letter in content:#\n",
    "    if letter == '\\n':\n",
    "        lines.append(line)\n",
    "        line = \"\"\n",
    "    else:\n",
    "        line = line + letter\n",
    "        \n",
    "lines.remove('\\ufeff')"
   ]
  },
  {
   "cell_type": "code",
   "execution_count": null,
   "id": "9ba19c8d",
   "metadata": {},
   "outputs": [],
   "source": [
    "from dateutil.parser import parse\n",
    "\n",
    "def isDateUniversal(string, fuzzy=False):\n",
    "    \"\"\"\n",
    "    Return whether the string can be interpreted as a date.\n",
    "\n",
    "    :param string: str, string to check for date\n",
    "    :param fuzzy: bool, ignore unknown tokens in string if True\n",
    "    \"\"\"\n",
    "    try: \n",
    "        parse(string, fuzzy=fuzzy)\n",
    "        return True\n",
    "\n",
    "    except ValueError:\n",
    "        return False"
   ]
  },
  {
   "cell_type": "code",
   "execution_count": null,
   "id": "2cc25002",
   "metadata": {},
   "outputs": [],
   "source": [
    "from datetime import datetime\n",
    "\n",
    "def isDate(date_text):\n",
    "    try:\n",
    "        if date_text != datetime.strptime(date_text, \"%m/%d/%Y\").strftime(\"%m/%d/%Y\"):\n",
    "            raise ValueError\n",
    "        return True\n",
    "    except ValueError:\n",
    "        return False"
   ]
  },
  {
   "cell_type": "code",
   "execution_count": null,
   "id": "ccaabe79",
   "metadata": {},
   "outputs": [],
   "source": [
    "from datetime import datetime\n",
    "\n",
    "def isTime(time_text):\n",
    "    try:\n",
    "        if time_text != datetime.strptime(time_text, \"%H:%M\").strftime(\"%H:%M\"):\n",
    "            raise ValueError\n",
    "        return True\n",
    "    except ValueError:\n",
    "        return False"
   ]
  },
  {
   "cell_type": "code",
   "execution_count": null,
   "id": "c932d8fc",
   "metadata": {},
   "outputs": [],
   "source": [
    "def dateConvertStr(text):\n",
    "    if len(text) == 8:\n",
    "        text = text[:0] + '0' + text[0:]\n",
    "        text = text[:3] + '0' + text[3:]\n",
    "    elif len(text) == 9:\n",
    "        if text[1] == '/':\n",
    "            text = '0' + text[0:]\n",
    "        else:\n",
    "            text = text[:3] + '0' + text[3:]\n",
    "    return text"
   ]
  },
  {
   "cell_type": "code",
   "execution_count": null,
   "id": "421f1a90",
   "metadata": {},
   "outputs": [],
   "source": [
    "# Inisialisasi Dataframe\n",
    "dict = {\n",
    "    'date':[],\n",
    "    'time':[],\n",
    "    'name':[],\n",
    "    'chat':''\n",
    "}\n",
    "\n",
    "df = pd.DataFrame(dict)\n",
    "\n",
    "start_time = datetime.now()\n",
    "# Preprocessing Test\n",
    "time = \"\"\n",
    "name = \"\"\n",
    "chat = \"\"\n",
    "date = \"\"\n",
    "\n",
    "\n",
    "for line in lines:\n",
    "    # Split per line\n",
    "    words = []\n",
    "    words = line.split('\\t')\n",
    "    print(words)\n",
    "    if(words == ['']):\n",
    "        continue\n",
    "    elif (len(words) == 1):\n",
    "        if not(isDateUniversal(words[0])):\n",
    "            # Add new line to chat\n",
    "            chat = chat + \" \\n\" +words[0]\n",
    "            # Remove last row\n",
    "            df = df[:-1]\n",
    "            # Add updated row to dataframe\n",
    "            df.loc[len(df.index)] = [date, time, name, chat]\n",
    "        elif isDateUniversal (words[0]):\n",
    "            # Converting\n",
    "            word = words[0]\n",
    "            # Cut nama hari\n",
    "            date_potong_str = word[5:-1] + word[-1]\n",
    "            # Convert ke format mm/dd/yyyy\n",
    "            date_coba = dateConvertStr(date_potong_str)\n",
    "            if isDate(date_coba):\n",
    "                date = date_coba\n",
    "    elif (len(words) == 2):\n",
    "        name = \"\"\n",
    "        time, chat = words[0], words[1]\n",
    "        \n",
    "        # Next Processing \n",
    "#         actions = ['joined the group.',\n",
    "#                    'left the group.',\n",
    "#                   'invited']\n",
    "#         chats = chat.split(' ')\n",
    "#         subchat = chats[-3] + ' ' + chats[-2] + ' ' + chats[-1]\n",
    "#         print(subchat)\n",
    "#         if (subchat =|= actions[0]):\n",
    "#             name = 'someone' # ubah jadi chat dikurang subchat\n",
    "# #             name = chat.remove(subchat)\n",
    "#             chat = subchat       \n",
    "        # Add row to dataframe\n",
    "        df.loc[len(df.index)] = [date, time, name, chat]\n",
    "    elif (len(words) == 3):\n",
    "        time, name, chat = words[0], words[1], words[2]\n",
    "        # Add row to dataframe\n",
    "        df.loc[len(df.index)] = [date, time, name, chat]\n",
    "\n",
    "print(\"Finished at \" + str(datetime.now() - start_time))"
   ]
  },
  {
   "cell_type": "code",
   "execution_count": null,
   "id": "c1c668f3",
   "metadata": {},
   "outputs": [],
   "source": [
    "# Menambah kolom istime sebagai boolean apakah format time benar atau salah\n",
    "df['istime'] = [True if isTime(time) else False for time in df['time']]\n",
    "# Drop kolom dengan format time salah\n",
    "idx_drop = df.index[[df['istime'] == False]]\n",
    "df.drop(idx_drop, inplace = True)"
   ]
  },
  {
   "cell_type": "code",
   "execution_count": null,
   "id": "24092728",
   "metadata": {},
   "outputs": [],
   "source": [
    "date = pd.Series(df['date'])\n",
    "time = pd.Series(df['time'])\n",
    "df['datetime'] = pd.to_datetime(date.str.cat(time, sep=' '))"
   ]
  },
  {
   "cell_type": "code",
   "execution_count": null,
   "id": "4e0b194e",
   "metadata": {},
   "outputs": [],
   "source": [
    "# Drop kolom tidak terpakai\n",
    "df.drop(columns=['istime','date','time'], inplace = True)"
   ]
  },
  {
   "cell_type": "code",
   "execution_count": null,
   "id": "34f3fcae",
   "metadata": {},
   "outputs": [],
   "source": [
    "# Rearrange urutan kolom\n",
    "df = df[['datetime','name','chat']]"
   ]
  }
 ],
 "metadata": {
  "kernelspec": {
   "display_name": "Python 3 (ipykernel)",
   "language": "python",
   "name": "python3"
  },
  "language_info": {
   "codemirror_mode": {
    "name": "ipython",
    "version": 3
   },
   "file_extension": ".py",
   "mimetype": "text/x-python",
   "name": "python",
   "nbconvert_exporter": "python",
   "pygments_lexer": "ipython3",
   "version": "3.9.7"
  }
 },
 "nbformat": 4,
 "nbformat_minor": 5
}
